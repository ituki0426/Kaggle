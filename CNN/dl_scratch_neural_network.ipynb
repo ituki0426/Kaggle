{
  "nbformat": 4,
  "nbformat_minor": 0,
  "metadata": {
    "colab": {
      "provenance": [],
      "authorship_tag": "ABX9TyNEjFBF+7yyh7xSKEsvvNPM",
      "include_colab_link": true
    },
    "kernelspec": {
      "name": "python3",
      "display_name": "Python 3"
    },
    "language_info": {
      "name": "python"
    }
  },
  "cells": [
    {
      "cell_type": "markdown",
      "metadata": {
        "id": "view-in-github",
        "colab_type": "text"
      },
      "source": [
        "<a href=\"https://colab.research.google.com/github/ituki0426/Kaggle/blob/main/CNN/dl_scratch_neural_network.ipynb\" target=\"_parent\"><img src=\"https://colab.research.google.com/assets/colab-badge.svg\" alt=\"Open In Colab\"/></a>"
      ]
    },
    {
      "cell_type": "markdown",
      "source": [
        "# 深層学習スクラッチ：ニューラルネットワーク"
      ],
      "metadata": {
        "id": "0DNfmmlDE68Y"
      }
    },
    {
      "cell_type": "markdown",
      "source": [
        "based on https://github.com/yuuhi-s/diveintocode-ml/blob/master/diveintocode-term2/sprint10/sprint10-dl-scratch-neural-network.ipynb"
      ],
      "metadata": {
        "id": "w1aLU9I0FDVG"
      }
    }
  ]
}