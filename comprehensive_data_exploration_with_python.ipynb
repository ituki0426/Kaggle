{
  "nbformat": 4,
  "nbformat_minor": 0,
  "metadata": {
    "colab": {
      "provenance": [],
      "authorship_tag": "ABX9TyNLXjebic5XqgkxsDT/Gdao",
      "include_colab_link": true
    },
    "kernelspec": {
      "name": "python3",
      "display_name": "Python 3"
    },
    "language_info": {
      "name": "python"
    }
  },
  "cells": [
    {
      "cell_type": "markdown",
      "metadata": {
        "id": "view-in-github",
        "colab_type": "text"
      },
      "source": [
        "<a href=\"https://colab.research.google.com/github/ituki0426/Kaggle/blob/main/comprehensive_data_exploration_with_python.ipynb\" target=\"_parent\"><img src=\"https://colab.research.google.com/assets/colab-badge.svg\" alt=\"Open In Colab\"/></a>"
      ]
    },
    {
      "cell_type": "markdown",
      "source": [
        "# Pythonによる包括的なデータ探索"
      ],
      "metadata": {
        "id": "SdHu_clLNVXD"
      }
    },
    {
      "cell_type": "markdown",
      "source": [
        "- 問題を理解する：それぞれの変数を見て、この問題に対する意味と重要性について哲学的な分析をする。\n",
        "\n",
        "- 一変量の調査：従属変数（'SalePrice'）だけに焦点を当て、それについてもう少し知ろうとする。\n",
        "\n",
        "- 多変量の調査：従属変数と独立変数がどのように関係するかを理解する\n",
        "\n",
        "- データの整形：データ集合をきれいにして、欠損データ、外れ値、カテゴリ変数を取り扱います。\n",
        "\n",
        "- 仮定(assumptions)のテスト：データがほとんどの多変量解析手法で必要とされる仮定を満たしているかチェックする。"
      ],
      "metadata": {
        "id": "9ewCQXb3KcTH"
      }
    }
  ]
}