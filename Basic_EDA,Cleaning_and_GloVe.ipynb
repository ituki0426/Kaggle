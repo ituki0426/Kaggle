{
  "nbformat": 4,
  "nbformat_minor": 0,
  "metadata": {
    "colab": {
      "provenance": [],
      "machine_shape": "hm",
      "gpuType": "L4",
      "authorship_tag": "ABX9TyMzSZfKIetvSuvYwNRQhPan",
      "include_colab_link": true
    },
    "kernelspec": {
      "name": "python3",
      "display_name": "Python 3"
    },
    "language_info": {
      "name": "python"
    },
    "accelerator": "GPU"
  },
  "cells": [
    {
      "cell_type": "markdown",
      "metadata": {
        "id": "view-in-github",
        "colab_type": "text"
      },
      "source": [
        "<a href=\"https://colab.research.google.com/github/ituki0426/Kaggle/blob/main/Basic_EDA%2CCleaning_and_GloVe.ipynb\" target=\"_parent\"><img src=\"https://colab.research.google.com/assets/colab-badge.svg\" alt=\"Open In Colab\"/></a>"
      ]
    },
    {
      "cell_type": "markdown",
      "source": [
        "## Basic Intro\n"
      ],
      "metadata": {
        "id": "2zhSwppRepCU"
      }
    },
    {
      "cell_type": "markdown",
      "source": [
        "このコンペティションでは、どのツイートが実際の災害に関するもので、どのツイートがそうでないかを予測する機械学習モデルの構築に挑戦する。"
      ],
      "metadata": {
        "id": "6F1emwImetGu"
      }
    },
    {
      "cell_type": "markdown",
      "source": [
        "## What's in this kernel"
      ],
      "metadata": {
        "id": "98RsDVHoeyyd"
      }
    },
    {
      "cell_type": "markdown",
      "source": [
        "- EDAの基本\n",
        "- データの整形\n",
        "- 基本モデル"
      ],
      "metadata": {
        "id": "377xYB_Ke2L2"
      }
    },
    {
      "cell_type": "markdown",
      "source": [
        "## ライブラリのインポート"
      ],
      "metadata": {
        "id": "l25IJSU1fDYn"
      }
    },
    {
      "cell_type": "code",
      "execution_count": 2,
      "metadata": {
        "id": "GKNjHgVnePbR"
      },
      "outputs": [],
      "source": [
        "import pandas as pd\n",
        "import matplotlib.pyplot as plt\n",
        "import seaborn as sns\n",
        "import numpy as np\n",
        "from nltk.corpus import stopwords\n",
        "from nltk.util import ngrams\n",
        "from sklearn.feature_extraction.text import CountVectorizer\n",
        "from collections import defaultdict\n",
        "from collections import  Counter\n",
        "plt.style.use('ggplot')\n",
        "import re\n",
        "from nltk.tokenize import word_tokenize\n",
        "import gensim\n",
        "import string\n",
        "from keras.preprocessing.text import Tokenizer\n",
        "from keras.preprocessing.sequence import pad_sequences\n",
        "from tqdm import tqdm\n",
        "from keras.models import Sequential\n",
        "from keras.layers import Embedding,LSTM,Dense,SpatialDropout1D\n",
        "from keras.initializers import Constant\n",
        "from sklearn.model_selection import train_test_split\n",
        "from keras.optimizers import Adam"
      ]
    },
    {
      "cell_type": "code",
      "source": [
        "import os"
      ],
      "metadata": {
        "id": "o6J7ZI5TfeWT"
      },
      "execution_count": 3,
      "outputs": []
    }
  ]
}