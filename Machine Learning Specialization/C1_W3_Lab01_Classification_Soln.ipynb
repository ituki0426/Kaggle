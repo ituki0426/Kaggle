{
  "nbformat": 4,
  "nbformat_minor": 0,
  "metadata": {
    "colab": {
      "provenance": [],
      "authorship_tag": "ABX9TyMwpzZDI6x1kasRprMUFyBS",
      "include_colab_link": true
    },
    "kernelspec": {
      "name": "python3",
      "display_name": "Python 3"
    },
    "language_info": {
      "name": "python"
    }
  },
  "cells": [
    {
      "cell_type": "markdown",
      "metadata": {
        "id": "view-in-github",
        "colab_type": "text"
      },
      "source": [
        "<a href=\"https://colab.research.google.com/github/ituki0426/Kaggle/blob/main/Machine%20Learning%20Specialization/C1_W3_Lab01_Classification_Soln.ipynb\" target=\"_parent\"><img src=\"https://colab.research.google.com/assets/colab-badge.svg\" alt=\"Open In Colab\"/></a>"
      ]
    },
    {
      "cell_type": "code",
      "execution_count": 14,
      "metadata": {
        "id": "iWYMohegHkz-"
      },
      "outputs": [],
      "source": [
        "import numpy as np\n",
        "import matplotlib.pyplot as plt"
      ]
    },
    {
      "cell_type": "code",
      "source": [
        "x_train = np.array([0.,1,2,3,4,5])\n",
        "y_train = np.array([0,0,0,1,1,1])\n",
        "X_train2 = np.array([[0.5, 1.5], [1,1], [1.5, 0.5], [3, 0.5], [2, 2], [1, 2.5]])\n",
        "y_train2 = np.array([0, 0, 0, 1, 1, 1])"
      ],
      "metadata": {
        "id": "Co3zpSjiJXH7"
      },
      "execution_count": 15,
      "outputs": []
    },
    {
      "cell_type": "code",
      "source": [
        "pos = y_train == 1\n",
        "neg = y_train == 0"
      ],
      "metadata": {
        "id": "Ha2vf2x_JkIC"
      },
      "execution_count": 16,
      "outputs": []
    },
    {
      "cell_type": "markdown",
      "source": [
        "(1)plt.subplot()\n",
        "\n",
        "plt.subplot()でサブプロット領域を指定して、plt.plot()などでプロットする方法\n",
        "\n",
        "(2)plt.subplots()\n",
        "\n",
        "```fig, axes=plt.subplots()```\n",
        "で、複数のaxesを生成してオブジェクト指向でプロットする方法\n",
        "\n",
        "```fig, axes = subplots(nrows, ncols```\n",
        "のように引数でサブプロットの配置を指定します。この場合、\n",
        "\n",
        "図を縦にnrows個、横にncols個に分割\n",
        "axesに各Axesオブジェクトを配列形式で格納\n"
      ],
      "metadata": {
        "id": "BG5ee4Z1KWqi"
      }
    },
    {
      "cell_type": "code",
      "source": [
        "fig,axes = plt.subplots(1,2,figsize=(8,3))\n",
        "axes[0].scatter(x_train[pos],y_train[pos], marker='x', s=80, c='r', label = \"Y=1\")\n",
        "axes[0].scatter(x_train[neg],y_train[neg],marker='o',s=80,c='b',label=\"Y=0\")\n",
        "\n",
        "axes[0].set_ylim(-0.08,1.1)\n",
        "axes[0].set_ylabel('x',fontsize = 12)\n",
        "axes[0].set_xlabel('y',fontsize = 12)\n",
        "axes[0].set_title('Original data')\n",
        "axes[0].legend()\n",
        "\n",
        "axes[1].scatter(X_train2[y_train2==0,0],X_train2[y_train2==0,1], marker='o', s=80, c='b', label = \"Y=1\")\n",
        "axes[1].scatter(X_train2[y_train2==1,0],X_train2[y_train2==1,1],marker='x',s=80,c='r',label=\"Y=0\")\n",
        "axes[1].axis([0,4,0,4])\n",
        "\n",
        "axes[1].set_ylabel('$x_1$', fontsize=12)\n",
        "axes[1].set_xlabel('$x_0$', fontsize=12)\n",
        "axes[1].set_title('two variable plot')\n",
        "axes[1].legend()\n",
        "plt.tight_layout()\n",
        "plt.show()\n"
      ],
      "metadata": {
        "colab": {
          "base_uri": "https://localhost:8080/",
          "height": 307
        },
        "id": "OqOJWLm4JoRf",
        "outputId": "3042f46b-9aad-4947-f268-b4ee617b602d"
      },
      "execution_count": 31,
      "outputs": [
        {
          "output_type": "display_data",
          "data": {
            "text/plain": [
              "<Figure size 800x300 with 2 Axes>"
            ],
            "image/png": "[encoded data removed]"
          },
          "metadata": {}
        }
      ]
    },
    {
      "cell_type": "code",
      "source": [
        "plt.\n"
      ],
      "metadata": {
        "colab": {
          "base_uri": "https://localhost:8080/"
        },
        "id": "Sf7ZbMtDNNXQ",
        "outputId": "5123b23e-9ee9-4879-e018-8eb492b2bd02"
      },
      "execution_count": 19,
      "outputs": [
        {
          "output_type": "execute_result",
          "data": {
            "text/plain": [
              "<matplotlib.collections.PathCollection at 0x7915cfc25c30>"
            ]
          },
          "metadata": {},
          "execution_count": 19
        }
      ]
    }
  ]
}